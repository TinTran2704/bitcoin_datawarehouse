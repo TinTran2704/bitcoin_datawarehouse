{
 "cells": [
  {
   "cell_type": "code",
   "execution_count": 1,
   "id": "34a1bdc5",
   "metadata": {},
   "outputs": [],
   "source": [
    "import pandas as pd\n",
    "import numpy as np\n",
    "from sqlalchemy import create_engine,text\n",
    "from sqlalchemy.exc import SQLAlchemyError\n",
    "from datetime import datetime\n",
    "import pytz"
   ]
  },
  {
   "cell_type": "code",
   "execution_count": 2,
   "id": "e064347e",
   "metadata": {},
   "outputs": [],
   "source": [
    "db_user = \"postgres\"\n",
    "db_password = \"tranbaotin\"\n",
    "db_host = \"localhost\"\n",
    "db_port = \"5432\"\n",
    "db_name = \"postgres\""
   ]
  },
  {
   "cell_type": "code",
   "execution_count": 3,
   "id": "2e8073f5",
   "metadata": {},
   "outputs": [],
   "source": [
    "db_connection_str = f\"postgresql+psycopg2://{db_user}:{db_password}@{db_host}:{db_port}/{db_name}\"\n",
    "\n",
    "# Đường dẫn đến file CSV\n",
    "csv_file_path = \"etl_job.csv\""
   ]
  },
  {
   "cell_type": "code",
   "execution_count": 4,
   "id": "b669ae57",
   "metadata": {},
   "outputs": [
    {
     "name": "stdout",
     "output_type": "stream",
     "text": [
      "Dữ liệu từ file CSV đã được import thành công vào bảng etl.etl_job\n"
     ]
    }
   ],
   "source": [
    "try:\n",
    "    # Tạo engine kết nối đến database\n",
    "    engine = create_engine(db_connection_str)\n",
    "    \n",
    "    # Đọc file CSV vào DataFrame\n",
    "    df = pd.read_csv(csv_file_path)\n",
    "    \n",
    "    # Điền các giá trị trống (NaN) bằng NaT\n",
    "    df['START_TS'] = df['START_TS'].replace(np.nan, pd.NaT)\n",
    "    df['END_TS'] = df['END_TS'].replace(np.nan, pd.NaT)\n",
    "    \n",
    "    current_time = datetime.now(pytz.timezone('Asia/Bangkok'))\n",
    "    df['LAST_UPDATED_TS'] = current_time\n",
    "    \n",
    "    # THAY ĐỔI TÊN CỘT THÀNH CHỮ THƯỜNG\n",
    "    df.columns = [col.lower() for col in df.columns]\n",
    "    \n",
    "    # Ghi DataFrame vào bảng etl.etl_job\n",
    "    df.to_sql(\n",
    "        name=\"etl_job\",  # Tên bảng\n",
    "        schema=\"etl\",    # Schema\n",
    "        con=engine,\n",
    "        if_exists=\"append\",  # Thêm dữ liệu vào bảng, không ghi đè\n",
    "        index=False  # Không ghi cột index của DataFrame\n",
    "    )\n",
    "    \n",
    "    print(\"Dữ liệu từ file CSV đã được import thành công vào bảng etl.etl_job\")\n",
    "\n",
    "except FileNotFoundError:\n",
    "    print(f\"Không tìm thấy file CSV tại: {csv_file_path}\")\n",
    "except ValueError as ve:\n",
    "    print(f\"Lỗi: {ve}\")\n",
    "except SQLAlchemyError as e:\n",
    "    print(f\"Lỗi khi import dữ liệu vào database: {e}\")\n",
    "finally:\n",
    "    # Đóng kết nối nếu engine đã được tạo\n",
    "    if 'engine' in locals():\n",
    "        engine.dispose()"
   ]
  }
 ],
 "metadata": {
  "kernelspec": {
   "display_name": "venv",
   "language": "python",
   "name": "python3"
  },
  "language_info": {
   "codemirror_mode": {
    "name": "ipython",
    "version": 3
   },
   "file_extension": ".py",
   "mimetype": "text/x-python",
   "name": "python",
   "nbconvert_exporter": "python",
   "pygments_lexer": "ipython3",
   "version": "3.10.9"
  }
 },
 "nbformat": 4,
 "nbformat_minor": 5
}
