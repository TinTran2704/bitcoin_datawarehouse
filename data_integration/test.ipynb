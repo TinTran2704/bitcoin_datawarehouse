{
 "cells": [
  {
   "cell_type": "code",
   "execution_count": 1,
   "id": "2497e999",
   "metadata": {},
   "outputs": [
    {
     "name": "stdout",
     "output_type": "stream",
     "text": [
      "Query thực thi, execution_id: 01K5PH4Z5KR743C0F8ZTTX2EY6\n",
      "Chờ 5 giây...\n",
      "Chờ 5 giây...\n",
      "Query hoàn thành!\n",
      "Dữ liệu lưu vào btc_prices_june_2011.csv\n"
     ]
    }
   ],
   "source": [
    "import requests\n",
    "import time\n",
    "import pandas as pd\n",
    "\n",
    "DUNE_API_KEY = \"Rq8roupIKKIZ9Iw5lFqNuqsgUAywgtvp\"  # Thay bằng API Key của bạn\n",
    "QUERY_ID = \"5816212\"       # Thay bằng query_id của query trên\n",
    "\n",
    "execute_url = f\"https://api.dune.com/api/v1/query/{QUERY_ID}/execute\"\n",
    "headers = {\"X-DUNE-API-KEY\": DUNE_API_KEY}\n",
    "response = requests.post(execute_url, headers=headers)\n",
    "\n",
    "if response.status_code == 200:\n",
    "    execution_id = response.json().get(\"execution_id\")\n",
    "    print(f\"Query thực thi, execution_id: {execution_id}\")\n",
    "else:\n",
    "    print(f\"Lỗi: {response.text}\")\n",
    "    exit()\n",
    "\n",
    "result_url = f\"https://api.dune.com/api/v1/execution/{execution_id}/results\"\n",
    "while True:\n",
    "    response = requests.get(result_url, headers=headers)\n",
    "    if response.status_code == 200:\n",
    "        result = response.json()\n",
    "        if result.get(\"state\") == \"QUERY_STATE_COMPLETED\":\n",
    "            print(\"Query hoàn thành!\")\n",
    "            break\n",
    "        print(\"Chờ 5 giây...\")\n",
    "        time.sleep(5)\n",
    "    else:\n",
    "        print(f\"Lỗi: {response.text}\")\n",
    "        exit()\n",
    "\n",
    "data = result.get(\"result\", {}).get(\"rows\", [])\n",
    "df = pd.DataFrame(data)\n",
    "df.to_csv(\"btc_prices_june_2011.csv\", index=False)\n",
    "print(\"Dữ liệu lưu vào btc_prices_june_2011.csv\")"
   ]
  }
 ],
 "metadata": {
  "kernelspec": {
   "display_name": "Python 3",
   "language": "python",
   "name": "python3"
  },
  "language_info": {
   "codemirror_mode": {
    "name": "ipython",
    "version": 3
   },
   "file_extension": ".py",
   "mimetype": "text/x-python",
   "name": "python",
   "nbconvert_exporter": "python",
   "pygments_lexer": "ipython3",
   "version": "3.10.11"
  }
 },
 "nbformat": 4,
 "nbformat_minor": 5
}
